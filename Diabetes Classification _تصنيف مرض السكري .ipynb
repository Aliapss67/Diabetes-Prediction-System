{
 "cells": [
  {
   "cell_type": "code",
   "execution_count": 4,
   "id": "667991a6",
   "metadata": {},
   "outputs": [],
   "source": [
    "import numpy as np\n",
    "import pandas as pd\n",
    "import matplotlib.pyplot as plt\n",
    "from sklearn.model_selection import train_test_split\n",
    "from sklearn.model_selection import KFold\n",
    "from sklearn.model_selection import StratifiedKFold\n",
    "from sklearn import metrics"
   ]
  },
  {
   "cell_type": "code",
   "execution_count": 5,
   "id": "3b8b9091",
   "metadata": {},
   "outputs": [],
   "source": [
    "data=pd.read_csv(\"C:\\\\Users\\\\fasy\\\\Downloads\\\\diabetes2.csv\")"
   ]
  },
  {
   "cell_type": "code",
   "execution_count": 6,
   "id": "ac806537",
   "metadata": {},
   "outputs": [
    {
     "data": {
      "text/html": [
       "<div>\n",
       "<style scoped>\n",
       "    .dataframe tbody tr th:only-of-type {\n",
       "        vertical-align: middle;\n",
       "    }\n",
       "\n",
       "    .dataframe tbody tr th {\n",
       "        vertical-align: top;\n",
       "    }\n",
       "\n",
       "    .dataframe thead th {\n",
       "        text-align: right;\n",
       "    }\n",
       "</style>\n",
       "<table border=\"1\" class=\"dataframe\">\n",
       "  <thead>\n",
       "    <tr style=\"text-align: right;\">\n",
       "      <th></th>\n",
       "      <th>Pregnancies</th>\n",
       "      <th>Glucose</th>\n",
       "      <th>BloodPressure</th>\n",
       "      <th>SkinThickness</th>\n",
       "      <th>Insulin</th>\n",
       "      <th>BMI</th>\n",
       "      <th>DiabetesPedigreeFunction</th>\n",
       "      <th>Age</th>\n",
       "      <th>Outcome</th>\n",
       "    </tr>\n",
       "  </thead>\n",
       "  <tbody>\n",
       "    <tr>\n",
       "      <th>0</th>\n",
       "      <td>6</td>\n",
       "      <td>148</td>\n",
       "      <td>72</td>\n",
       "      <td>35</td>\n",
       "      <td>0</td>\n",
       "      <td>33.6</td>\n",
       "      <td>0.627</td>\n",
       "      <td>50</td>\n",
       "      <td>1</td>\n",
       "    </tr>\n",
       "    <tr>\n",
       "      <th>1</th>\n",
       "      <td>1</td>\n",
       "      <td>85</td>\n",
       "      <td>66</td>\n",
       "      <td>29</td>\n",
       "      <td>0</td>\n",
       "      <td>26.6</td>\n",
       "      <td>0.351</td>\n",
       "      <td>31</td>\n",
       "      <td>0</td>\n",
       "    </tr>\n",
       "    <tr>\n",
       "      <th>2</th>\n",
       "      <td>8</td>\n",
       "      <td>183</td>\n",
       "      <td>64</td>\n",
       "      <td>0</td>\n",
       "      <td>0</td>\n",
       "      <td>23.3</td>\n",
       "      <td>0.672</td>\n",
       "      <td>32</td>\n",
       "      <td>1</td>\n",
       "    </tr>\n",
       "    <tr>\n",
       "      <th>3</th>\n",
       "      <td>1</td>\n",
       "      <td>89</td>\n",
       "      <td>66</td>\n",
       "      <td>23</td>\n",
       "      <td>94</td>\n",
       "      <td>28.1</td>\n",
       "      <td>0.167</td>\n",
       "      <td>21</td>\n",
       "      <td>0</td>\n",
       "    </tr>\n",
       "    <tr>\n",
       "      <th>4</th>\n",
       "      <td>0</td>\n",
       "      <td>137</td>\n",
       "      <td>40</td>\n",
       "      <td>35</td>\n",
       "      <td>168</td>\n",
       "      <td>43.1</td>\n",
       "      <td>2.288</td>\n",
       "      <td>33</td>\n",
       "      <td>1</td>\n",
       "    </tr>\n",
       "  </tbody>\n",
       "</table>\n",
       "</div>"
      ],
      "text/plain": [
       "   Pregnancies  Glucose  BloodPressure  SkinThickness  Insulin   BMI  \\\n",
       "0            6      148             72             35        0  33.6   \n",
       "1            1       85             66             29        0  26.6   \n",
       "2            8      183             64              0        0  23.3   \n",
       "3            1       89             66             23       94  28.1   \n",
       "4            0      137             40             35      168  43.1   \n",
       "\n",
       "   DiabetesPedigreeFunction  Age  Outcome  \n",
       "0                     0.627   50        1  \n",
       "1                     0.351   31        0  \n",
       "2                     0.672   32        1  \n",
       "3                     0.167   21        0  \n",
       "4                     2.288   33        1  "
      ]
     },
     "execution_count": 6,
     "metadata": {},
     "output_type": "execute_result"
    }
   ],
   "source": [
    "data.head()"
   ]
  },
  {
   "cell_type": "code",
   "execution_count": 37,
   "id": "5c298632",
   "metadata": {},
   "outputs": [
    {
     "data": {
      "text/plain": [
       "0    500\n",
       "1    268\n",
       "Name: Outcome, dtype: int64"
      ]
     },
     "execution_count": 37,
     "metadata": {},
     "output_type": "execute_result"
    }
   ],
   "source": [
    "data.Outcome.value_counts()"
   ]
  },
  {
   "cell_type": "code",
   "execution_count": 38,
   "id": "8cb664cb",
   "metadata": {},
   "outputs": [],
   "source": [
    "x=data[[\"Pregnancies\",\"Glucose\",\"BloodPressure\",\"Age\",\"SkinThickness\",\"Insulin\",\"BMI\",\"DiabetesPedigreeFunction\"]].values\n",
    "y=data[\"Outcome\"].values"
   ]
  },
  {
   "cell_type": "code",
   "execution_count": 39,
   "id": "a48d3f0b",
   "metadata": {},
   "outputs": [
    {
     "data": {
      "text/plain": [
       "(768,)"
      ]
     },
     "execution_count": 39,
     "metadata": {},
     "output_type": "execute_result"
    }
   ],
   "source": [
    "y.shape"
   ]
  },
  {
   "cell_type": "code",
   "execution_count": 40,
   "id": "c5cab0aa",
   "metadata": {},
   "outputs": [],
   "source": [
    "x_train,x_test,y_train,y_test=train_test_split(x,y,test_size=0.3,random_state=42)\n",
    "x_valid,x_test,y_valid,y_test=train_test_split(x_test,y_test,test_size=0.50,random_state=42)\n"
   ]
  },
  {
   "cell_type": "code",
   "execution_count": 72,
   "id": "b3c8cd6c",
   "metadata": {},
   "outputs": [],
   "source": [
    "class LogisticRrgression:\n",
    "    def __init__(self,lrate=0.01,iterations=1000):\n",
    "        self.lrate=lrate\n",
    "        self.iterations=iterations\n",
    "        \n",
    "    def scale(self,x):\n",
    "        x_scaled=x-np.mean(x,axis=0)\n",
    "        x_scaled=x_scaled/np.std(x_scaled,axis=0)\n",
    "        return x_scaled\n",
    "        \n",
    "    def fit(self,x,y):\n",
    "        self.losses=[]\n",
    "        self.theta=np.zeros((1+x.shape[1]))\n",
    "        n=x.shape[0]\n",
    "        x=self.scale(x)\n",
    "        \n",
    "        for i in range(self.iterations):\n",
    "            y_pred=self.theta[0]+np.dot(x,self.theta[1:])\n",
    "            z=y_pred\n",
    "            g_z=1/(1+np.e**(-z))\n",
    "            cost=(-y*np.log(g_z)-(1-y)*np.log(1-g_z))/n\n",
    "            self.losses.append(cost)\n",
    "            \n",
    "            dtheta1=(1/n)*np.dot(x.T,(g_z-y))\n",
    "            dtheta0=(1/n)*np.sum(g_z-y)\n",
    "            \n",
    "            self.theta[1:]=self.theta[1:]-self.lrate*dtheta1\n",
    "            self.theta[0]=self.theta[0]-self.lrate*dtheta0\n",
    "        return self\n",
    "    \n",
    "    def predict(self,x):\n",
    "        x=self.scale(x)\n",
    "        y_pred=self.theta[0]+np.dot(x,self.theta[1:])\n",
    "        z=y_pred\n",
    "        g_z=1/(1+np.e**(-z))\n",
    "        return [1 if i>0.4 else 0 for i in g_z]"
   ]
  },
  {
   "cell_type": "code",
   "execution_count": 73,
   "id": "5af40a64",
   "metadata": {},
   "outputs": [
    {
     "data": {
      "text/plain": [
       "<__main__.LogisticRrgression at 0x18ed9f2de50>"
      ]
     },
     "execution_count": 73,
     "metadata": {},
     "output_type": "execute_result"
    }
   ],
   "source": [
    "model=LogisticRrgression()\n",
    "model.fit(x_train,y_train)"
   ]
  },
  {
   "cell_type": "code",
   "execution_count": 74,
   "id": "2ac45701",
   "metadata": {},
   "outputs": [
    {
     "name": "stdout",
     "output_type": "stream",
     "text": [
      "theta is :  [-0.64266626  0.35600026  0.85182347 -0.16480043  0.16528704  0.02288199\n",
      "  0.03134143  0.46495281  0.22764651]\n"
     ]
    }
   ],
   "source": [
    "print(\"theta is : \",model.theta)"
   ]
  },
  {
   "cell_type": "code",
   "execution_count": 75,
   "id": "d55f2134",
   "metadata": {},
   "outputs": [],
   "source": [
    "y_pred_train=model.predict(x_train)\n",
    "y_pred_valid=model.predict(x_valid)"
   ]
  },
  {
   "cell_type": "code",
   "execution_count": 76,
   "id": "7e1dc341",
   "metadata": {},
   "outputs": [],
   "source": [
    "train_acc=metrics.accuracy_score(y_train,y_pred_train)\n",
    "valid_acc=metrics.accuracy_score(y_valid,y_pred_valid)"
   ]
  },
  {
   "cell_type": "code",
   "execution_count": 77,
   "id": "4dbecc7b",
   "metadata": {},
   "outputs": [
    {
     "name": "stdout",
     "output_type": "stream",
     "text": [
      "traing accuracy is : 0.767479674796748\n",
      "validation accuracy is : 0.7304347826086957\n"
     ]
    }
   ],
   "source": [
    "print(\"traing accuracy is :\",train_acc)\n",
    "print(\"validation accuracy is :\",valid_acc)"
   ]
  },
  {
   "cell_type": "code",
   "execution_count": 78,
   "id": "a9004714",
   "metadata": {},
   "outputs": [
    {
     "name": "stdout",
     "output_type": "stream",
     "text": [
      "traing accuracy is : 0.7320261437908496\n"
     ]
    }
   ],
   "source": [
    "y_pred_test=model.predict(x_test)\n",
    "test_acc=metrics.accuracy_score(y_test,y_pred_test)\n",
    "print(\"traing accuracy is :\",test_acc)"
   ]
  },
  {
   "cell_type": "code",
   "execution_count": 79,
   "id": "c656f14c",
   "metadata": {},
   "outputs": [],
   "source": [
    "num_splits=5\n",
    "kfold=StratifiedKFold(num_splits,shuffle=True,random_state=1)\n",
    "train_accs,test_accs=[],[]\n",
    "for train_index,test_index in kfold.split(x,y):\n",
    "    x_train,x_test=x[train_index],x[test_index]\n",
    "    y_train,y_test=y[train_index],y[test_index]\n",
    "    \n",
    "    model.fit(x_train,y_train)\n",
    "    y_pred_train=model.predict(x_train)\n",
    "    y_pred_test=model.predict(x_test)\n",
    "    \n",
    "    train_accs.append(metrics.accuracy_score(y_train,y_pred_train)*100)\n",
    "    test_accs.append(metrics.accuracy_score(y_test,y_pred_test)*100)"
   ]
  },
  {
   "cell_type": "code",
   "execution_count": 80,
   "id": "33c2ed1d",
   "metadata": {},
   "outputs": [
    {
     "name": "stdout",
     "output_type": "stream",
     "text": [
      "\t training_acc \t testing_acc\n",
      "0 \t 76.0586319218241 \t 75.32467532467533\n",
      "1 \t 75.2442996742671 \t 74.67532467532467\n",
      "2 \t 73.9413680781759 \t 81.16883116883116\n",
      "3 \t 77.72357723577235 \t 71.89542483660131\n",
      "4 \t 76.7479674796748 \t 73.20261437908496\n",
      "AV \t 75.94316887794285 \t 75.25337407690348\n"
     ]
    }
   ],
   "source": [
    "ave_train_acc=0\n",
    "ave_test_acc=0\n",
    "print(\"\\t\",\"training_acc\",\"\\t\",\"testing_acc\")\n",
    "\n",
    "for i in range(num_splits):\n",
    "    print(i,\"\\t\",train_accs[i],\"\\t\",test_accs[i])\n",
    "    \n",
    "    ave_train_acc+=train_accs[i]/num_splits\n",
    "    ave_test_acc+=test_accs[i]/num_splits\n",
    "print(\"AV\",\"\\t\",ave_train_acc,\"\\t\",ave_test_acc)"
   ]
  }
 ],
 "metadata": {
  "kernelspec": {
   "display_name": "Python 3 (ipykernel)",
   "language": "python",
   "name": "python3"
  },
  "language_info": {
   "codemirror_mode": {
    "name": "ipython",
    "version": 3
   },
   "file_extension": ".py",
   "mimetype": "text/x-python",
   "name": "python",
   "nbconvert_exporter": "python",
   "pygments_lexer": "ipython3",
   "version": "3.11.4"
  }
 },
 "nbformat": 4,
 "nbformat_minor": 5
}
